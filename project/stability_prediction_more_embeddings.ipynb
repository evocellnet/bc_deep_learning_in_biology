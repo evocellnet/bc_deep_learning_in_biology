{
 "cells": [
  {
   "cell_type": "code",
   "execution_count": 1,
   "metadata": {},
   "outputs": [
    {
     "name": "stdout",
     "output_type": "stream",
     "text": [
      "Collecting git+https://github.com/facebookresearch/esm.git\n",
      "  Cloning https://github.com/facebookresearch/esm.git to /private/var/folders/kp/nj27yjxx3n3dqz4hw_jw1vrh0000gr/T/pip-req-build-y_ubrsbd\n",
      "  Running command git clone --filter=blob:none --quiet https://github.com/facebookresearch/esm.git /private/var/folders/kp/nj27yjxx3n3dqz4hw_jw1vrh0000gr/T/pip-req-build-y_ubrsbd\n",
      "  Resolved https://github.com/facebookresearch/esm.git to commit 2b369911bb5b4b0dda914521b9475cad1656b2ac\n",
      "  Installing build dependencies ... \u001b[?25ldone\n",
      "\u001b[?25h  Getting requirements to build wheel ... \u001b[?25ldone\n",
      "\u001b[?25h  Preparing metadata (pyproject.toml) ... \u001b[?25ldone\n",
      "\u001b[?25hBuilding wheels for collected packages: fair-esm\n",
      "  Building wheel for fair-esm (pyproject.toml) ... \u001b[?25ldone\n",
      "\u001b[?25h  Created wheel for fair-esm: filename=fair_esm-2.0.1-py3-none-any.whl size=105419 sha256=a758f42a21acb23b124250f86cdb0714d301b8ae6ceef2c9d4dd23e8dae7143c\n",
      "  Stored in directory: /private/var/folders/kp/nj27yjxx3n3dqz4hw_jw1vrh0000gr/T/pip-ephem-wheel-cache-vy4nourx/wheels/f3/b2/ec/4db0b108f6367c7563f99b2445e1137d486003fb2f9bfd2f53\n",
      "Successfully built fair-esm\n",
      "Installing collected packages: fair-esm\n",
      "Successfully installed fair-esm-2.0.1\n"
     ]
    }
   ],
   "source": [
    "# Run once to install the ESM-1b model: https://github.com/facebookresearch/esm\n",
    "!pip install git+https://github.com/facebookresearch/esm.git"
   ]
  },
  {
   "cell_type": "code",
   "execution_count": 2,
   "metadata": {},
   "outputs": [],
   "source": [
    "import scipy.spatial.distance\n",
    "import torch"
   ]
  },
  {
   "cell_type": "code",
   "execution_count": 3,
   "metadata": {},
   "outputs": [
    {
     "name": "stdout",
     "output_type": "stream",
     "text": [
      "393 residues in sequence\n",
      "3 mutations\n"
     ]
    }
   ],
   "source": [
    "# https://www.uniprot.org/uniprotkb/P04637/entry\n",
    "wt_seq = 'MEEPQSDPSVEPPLSQETFSDLWKLLPENNVLSPLPSQAMDDLMLSPDDIEQWFTEDPGPDEAPRMPEAAPPVAPAPAAPTPAAPAPAPSWPLSSSVPSQKTYQGSYGFRLGFLHSGTAKSVTCTYSPALNKMFCQLAKTCPVQLWVDSTPPPGTRVRAMAIYKQSQHMTEVVRRCPHHERCSDSDGLAPPQHLIRVEGNLRVEYLDDRNTFRHSVVVPYEPPEVGSDCTTIHYNYMCNSSCMGGMNRRPILTIITLEDSSGNLLGRNSFEVRVCACPGRDRRTEEENLRKKGEPHHELPPGSTKRALPNNTSSSPQPKKKPLDGEYFTLQIRGRERFEMFRELNEALELKDAQAGKEPGGSRAHSSHLKSKKGQSTSRHKKLMFKTEGPDSD'\n",
    "print(len(wt_seq), 'residues in sequence')\n",
    "\n",
    "mutations = [\n",
    "    # TP53 mutation known to destabilize the protein: https://www.pnas.org/doi/10.1073/pnas.0805326105\n",
    "    'Y220C',\n",
    "    # Two ClinVar mutations classified as 'benign': https://www.ncbi.nlm.nih.gov/clinvar/?term=Li-Fraumeni+syndrome\n",
    "    'E298S',\n",
    "    'Q354K',\n",
    "]\n",
    "print(len(mutations), 'mutations')"
   ]
  },
  {
   "cell_type": "code",
   "execution_count": 4,
   "metadata": {},
   "outputs": [],
   "source": [
    "with open('sequences.fasta', 'w') as fh:\n",
    "    print(f'>wt', file=fh)\n",
    "    print(wt_seq, file=fh)\n",
    "    for mut in mutations:\n",
    "        aa_pos = int(mut[1:-1])\n",
    "        aa_ref = mut[0]\n",
    "        aa_alt = mut[-1]\n",
    "        #print(aa_pos, aa_ref, aa_alt)\n",
    "        mut_seq = wt_seq[:aa_pos - 1] + aa_alt + wt_seq[aa_pos:]\n",
    "        assert wt_seq[aa_pos - 1] == aa_ref\n",
    "        assert mut_seq[aa_pos - 1] == aa_alt\n",
    "\n",
    "        print(f'>{mut}', file=fh)\n",
    "        print(mut_seq, file=fh)"
   ]
  },
  {
   "cell_type": "code",
   "execution_count": 5,
   "metadata": {},
   "outputs": [
    {
     "name": "stdout",
     "output_type": "stream",
     "text": [
      "Read sequences.fasta with 4 sequences\n",
      "Processing 1 of 1 batches (4 sequences)\n"
     ]
    }
   ],
   "source": [
    "#!python $CONDA_PREFIX/lib/python3.10/site-packages/esm/scripts/extract.py esm1_t6_43M_UR50S sequences.fasta embeddings --include mean\n",
    "import esm, esm.scripts, esm.scripts.extract\n",
    "parser = esm.scripts.extract.create_parser()\n",
    "args = parser.parse_args(['esm1_t6_43M_UR50S', 'sequences.fasta', 'embeddings', '--include', 'mean'])\n",
    "esm.scripts.extract.run(args)\n"
   ]
  },
  {
   "cell_type": "code",
   "execution_count": 6,
   "metadata": {},
   "outputs": [],
   "source": [
    "# Check shape of arbitrary embedding\n",
    "wt_emb = torch.load('embeddings/wt.pt')['mean_representations'][6]\n",
    "Y220C_emb = torch.load('embeddings/Y220C.pt')['mean_representations'][6]\n",
    "E298S_emb = torch.load('embeddings/E298S.pt')['mean_representations'][6]\n",
    "Q354K_emb = torch.load('embeddings/Q354K.pt')['mean_representations'][6]"
   ]
  },
  {
   "cell_type": "code",
   "execution_count": 7,
   "metadata": {},
   "outputs": [
    {
     "name": "stdout",
     "output_type": "stream",
     "text": [
      "0.0001891483466651689\n",
      "4.11470402561509e-05\n",
      "3.777076966193782e-05\n"
     ]
    }
   ],
   "source": [
    "print(scipy.spatial.distance.cosine(Y220C_emb, wt_emb)) # pathogenic\n",
    "print(scipy.spatial.distance.cosine(E298S_emb, wt_emb)) # benign\n",
    "print(scipy.spatial.distance.cosine(Q354K_emb, wt_emb)) # benign"
   ]
  }
 ],
 "metadata": {
  "kernelspec": {
   "display_name": "block-course-env",
   "language": "python",
   "name": "python3"
  },
  "language_info": {
   "codemirror_mode": {
    "name": "ipython",
    "version": 3
   },
   "file_extension": ".py",
   "mimetype": "text/x-python",
   "name": "python",
   "nbconvert_exporter": "python",
   "pygments_lexer": "ipython3",
   "version": "3.10.16"
  }
 },
 "nbformat": 4,
 "nbformat_minor": 2
}
