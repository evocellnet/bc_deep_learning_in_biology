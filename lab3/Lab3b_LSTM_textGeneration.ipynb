{
 "cells": [
  {
   "cell_type": "markdown",
   "id": "18a38a37-de30-4959-b70d-33ede88284e7",
   "metadata": {},
   "source": [
    "# Lab 3b: LSTM\n",
    "In this second part of the lab, you will use a similar language class and LSTM as in part (a) to make a text generator."
   ]
  },
  {
   "cell_type": "code",
   "execution_count": null,
   "id": "839201e6-3684-44e0-9141-7a7dde2cac13",
   "metadata": {},
   "outputs": [],
   "source": [
    "\n",
    "# import pytorch\n",
    "import torch\n",
    "import torch.nn as nn\n",
    "from torch import Tensor\n",
    "from torch import optim\n",
    "from torch.utils.data import TensorDataset, DataLoader, RandomSampler\n",
    "import lightning as L\n",
    "\n",
    "# import basic functionality\n",
    "import random\n",
    "import numpy as np\n",
    "import pandas as pd\n",
    "import itertools\n",
    "import re\n",
    "import string\n",
    "import time\n"
   ]
  },
  {
   "cell_type": "code",
   "execution_count": null,
   "id": "b7782f36-258c-49e6-82bb-1cf425226577",
   "metadata": {},
   "outputs": [],
   "source": [
    "\n",
    "# download a collection of short stories\n",
    "!mkdir -p ~/short_stories\n",
    "%cd ~/\n",
    "\n",
    "!wget -P ~/short_stories/ https://github.com/evocellnet/bc_deep_learning_in_biology/blob/main/lab3/Lab3b_LSTM_short_stories.txt\n"
   ]
  },
  {
   "cell_type": "code",
   "execution_count": null,
   "id": "16b4c424-2699-41e4-81fc-259a1de192be",
   "metadata": {},
   "outputs": [],
   "source": [
    "\n",
    "# put your favorite text here\n",
    "with open('short_stories/Lab3b_LSTM_short_stories.txt') as f:\n",
    "    lines = f.readlines()\n",
    "\n",
    "lines = lines[0].split('rawLines\":[')[1].split('TEXT TAKEN FROM')[0]\n",
    "cur_text = lines.lower()\n",
    "\n",
    "letters = string.ascii_lowercase+'. '\n",
    "cur_text_trimmed = re.sub(' +', ' ', \"\".join([ch if ch in letters else ' ' for ch in cur_text])).strip()\n",
    "\n",
    "use_nr_sentences = 50\n",
    "cur_text = \". \".join(cur_text_trimmed.split('. ')[0:use_nr_sentences])+'.'\n",
    "cur_text"
   ]
  },
  {
   "cell_type": "code",
   "execution_count": null,
   "id": "f3a79775-a602-4408-9010-8fabca28a0d9",
   "metadata": {},
   "outputs": [],
   "source": [
    "# as before we define a language\n",
    "class Lang:\n",
    "    def __init__(self, name):\n",
    "        self.name = name\n",
    "        self.word2index = {}\n",
    "        self.index2word = {}\n",
    "        self.n_words = 0  # Count SOS and EOS\n",
    "\n",
    "    def addSentence(self, sentence, codon_length):\n",
    "        for word in sentence:#[sentence[i:i+codon_length] for i in range(0, len(sentence), codon_length)]:\n",
    "            self.addWord(word)\n",
    "\n",
    "    def addWord(self, word):\n",
    "        if word not in self.word2index:\n",
    "            self.word2index[word] = self.n_words\n",
    "            self.index2word[self.n_words] = word\n",
    "            self.n_words += 1\n",
    "            \n",
    "    def to_encoding(self):\n",
    "        for key in self.word2index:\n",
    "            new_val = np.zeros(len(self.word2index),dtype=np.int32)\n",
    "            new_val[self.word2index[key]] = 1\n",
    "            self.word2index[key] = new_val\n",
    "\n",
    "\n",
    "# function for encoding an input sentence\n",
    "def encode_input(language, sentence):\n",
    "    sentence_encoded = [np.array(language.word2index[sentence])]\n",
    "    return (sentence_encoded)\n",
    "    \n",
    "# function for encoding a target sentence\n",
    "def encode_target(language, sentence):\n",
    "    targets = []\n",
    "    for x in sentence:\n",
    "        targets.append(np.argmax(language.word2index[x]))\n",
    "    return np.array([tar for tar in targets])\n"
   ]
  },
  {
   "cell_type": "markdown",
   "id": "275de84c-9fea-4259-88c6-42925bc2be59",
   "metadata": {},
   "source": [
    "# Step 1: Create a language for your text\n",
    "We need to encode the text that we use for training as before. We'll use the same language for encoding/decoding input and outputs of the model."
   ]
  },
  {
   "cell_type": "code",
   "execution_count": null,
   "id": "d3f9a944-2bd1-434b-b265-be3f9d5d1107",
   "metadata": {},
   "outputs": [],
   "source": [
    "\n",
    "# create a language for encoding the words in your text\n",
    "gen_lang = Lang(\"text_gen\")\n",
    "\n",
    "########################\n",
    "### create the language\n",
    "########################\n",
    "\n",
    "# number of words in language\n",
    "gen_lang.n_words\n"
   ]
  },
  {
   "cell_type": "code",
   "execution_count": null,
   "id": "361e3e67-7a83-45be-be9d-4dccf1394ce3",
   "metadata": {},
   "outputs": [],
   "source": [
    "\n",
    "# create input-target word pairs\n",
    "cur_sent = cur_text#sentences[i]\n",
    "use_sentences_inp = cur_sent.split()[:-1]\n",
    "use_sentences_tar = cur_sent.split()[1:]\n",
    "\n",
    "# look at input-target pairs\n",
    "use_sentences_inp[0:5], use_sentences_tar[0:5]\n"
   ]
  },
  {
   "cell_type": "code",
   "execution_count": null,
   "id": "c3f9b296-c8fd-447a-ba23-1c2b45e2d2cc",
   "metadata": {},
   "outputs": [],
   "source": [
    "\n",
    "# encode sentences\n",
    "input_encoded = [encode_input(gen_lang, word) for word in use_sentences_inp]\n",
    "target_encoded = encode_target(gen_lang, use_sentences_tar)\n",
    "\n",
    "# look at input-target encodings\n",
    "input_encoded[0:3], target_encoded[0:3]\n"
   ]
  },
  {
   "cell_type": "code",
   "execution_count": null,
   "id": "75452ed3-1090-43fe-9783-c9b482e3ae2c",
   "metadata": {},
   "outputs": [],
   "source": [
    "\n",
    "# create input/target tensors for model\n",
    "inp = torch.from_numpy(np.array(input_encoded)).double()\n",
    "tar = torch.from_numpy(np.array(target_encoded))\n",
    "\n",
    "# look at input-target tensors\n",
    "inp, tar\n"
   ]
  },
  {
   "cell_type": "markdown",
   "id": "08ad8e70-afcf-4ea0-930f-ca9260ee70d9",
   "metadata": {},
   "source": [
    "# Step 2: Define model\n",
    "We define and train our model class as before. Here, we use a simple, manual, training loop without cross-validation to speed up the training process and give some insight in the details."
   ]
  },
  {
   "cell_type": "code",
   "execution_count": null,
   "id": "dad959a9-af1e-41e2-8aab-1ba1702fc9ab",
   "metadata": {},
   "outputs": [],
   "source": [
    "\n",
    "# Define the device (CPU or GPU)\n",
    "device = torch.device('cuda' if torch.cuda.is_available() else 'cpu')"
   ]
  },
  {
   "cell_type": "code",
   "execution_count": null,
   "id": "96590103-9889-4d3e-bf96-fa2dab6d6eea",
   "metadata": {},
   "outputs": [],
   "source": [
    "\n",
    "########################\n",
    "### create the model architecture\n",
    "########################\n",
    "class MyLSTM(nn.Module):\n",
    "    def __init__(self, input_size, hidden_size, output_size):\n",
    "        super(MyLSTM,self).__init__()\n",
    "        \n",
    "        # save input parameters\n",
    "        # define model layers (LSTM) (pseudocode:)\n",
    "        self.LSTM = nn.LSTM(input_1, ..., input_k, batch_first = True)\n",
    "        \n",
    "    def forward(self,inp):\n",
    "        inp = inp.to(device)\n",
    "        \n",
    "        # define initial hidden and cell states of LSTM\n",
    "        # run LSTM (pseudocode:)\n",
    "        output_1, ..., output_n = self.LSTM(input_1, ..., input_m) \n",
    "        \n",
    "        return output\n"
   ]
  },
  {
   "cell_type": "code",
   "execution_count": null,
   "id": "c39f8fe5-08ad-44f9-b3e0-7e66f2a9b8e8",
   "metadata": {},
   "outputs": [],
   "source": [
    "\n",
    "# initialize model\n",
    "model = MyLSTM(gen_lang.n_words, gen_lang.n_words, gen_lang.n_words).double()\n",
    "\n",
    "########################\n",
    "### define the loss function and optimizer\n",
    "########################\n",
    "optimizer = ... # optimizer\n",
    "criterion = ... # loss function\n",
    "\n",
    "#Number of iterations\n",
    "epochs = 150\n",
    "start = time.time()\n",
    "for itr in range(epochs):\n",
    "    \n",
    "    # zero the previous gradients\n",
    "    model.zero_grad()\n",
    "    optimizer.zero_grad()\n",
    "    \n",
    "    #Find the output\n",
    "    output = model(inp)\n",
    "    \n",
    "    #Reshape the output to 2 dimensions. This is done, so that we can compare with target and get loss\n",
    "    output = output.view(len(inp), gen_lang.n_words)\n",
    "    \n",
    "    # compute loss of model output for target text\n",
    "    loss = criterion(output, tar)\n",
    "    \n",
    "    # print loss for every x-th iteration\n",
    "    if itr%20==0:\n",
    "        print('Iteration : '+str(itr)+' Loss : '+str(loss) )\n",
    "        \n",
    "    #Back propagate the loss\n",
    "    loss.backward()\n",
    "    \n",
    "    #Perform weight updation\n",
    "    optimizer.step()\n",
    "    \n",
    "print('Time taken to train : '+str(time.time()-start)+\" seconds\")\n"
   ]
  },
  {
   "cell_type": "markdown",
   "id": "0fd64a61-d218-42f7-a92a-dceb567dbc71",
   "metadata": {},
   "source": [
    "# Step 3: Test the model\n",
    "Finally, we test the model on a random sequence"
   ]
  },
  {
   "cell_type": "code",
   "execution_count": null,
   "id": "879fc3b4-c9ab-443c-bdd7-0bf2fa0088a9",
   "metadata": {},
   "outputs": [],
   "source": [
    "\n",
    "# function predicts the next letter given the sequence   \n",
    "def predict_word(s):\n",
    "    # get the input tensor\n",
    "    input_encoded = [encode_input(gen_lang, word) for word in s.split()]\n",
    "    input_tensor = torch.from_numpy(np.array(input_encoded)).double() \n",
    "    \n",
    "    # get the output from your model\n",
    "    out = model(input_tensor)\n",
    "    \n",
    "    # map output to most likely word in your language\n",
    "    return gen_lang.index2word[out[-1][0].topk(1)[1].numpy()[0]]\n",
    "         \n",
    "\n",
    "#THis method recursively generates the sequence using the trained model\n",
    "def generate_sentence(cur_sent):    \n",
    "    # generate untill we find a dot\n",
    "    if cur_sent[-1]=='.' or len(cur_sent)>100:\n",
    "        return\n",
    "    \n",
    "    # predict with sequence s\n",
    "    next_word = predict_word(cur_sent)\n",
    "    \n",
    "    # continue prediction with sequence s + predicted value\n",
    "    print(cur_sent + ' ' + next_word)\n",
    "    \n",
    "    # continue generation of text\n",
    "    generate_sentence(cur_sent + ' ' + next_word)\n",
    "    "
   ]
  },
  {
   "cell_type": "code",
   "execution_count": null,
   "id": "dd42f3b5-577a-4f9e-b392-9a46fe325fc1",
   "metadata": {},
   "outputs": [],
   "source": [
    "\n",
    "# each line adds a newly generated word\n",
    "generate_sentence('boat')\n"
   ]
  },
  {
   "cell_type": "code",
   "execution_count": null,
   "id": "fd6d23b3-2db0-4e74-bf07-84897cd87ba8",
   "metadata": {},
   "outputs": [],
   "source": [
    "\n",
    "# view words in your dictionary for input\n",
    "set([key for key in gen_lang.word2index])\n"
   ]
  },
  {
   "cell_type": "markdown",
   "id": "cfdb4481-07cd-4188-a724-41d3c456bcdf",
   "metadata": {},
   "source": [
    "# Step 4: Questions\n",
    "1) Define a LSTM, optimizer and loss function\n",
    "2) How does the training depend on the size of the hidden layer?\n",
    "3) Train the model on different text / longer text\n",
    "3) Can you modify the lab to encode letters instead of words? (i.e., a literal text generator instead of word generator). Is this beneficial?\n"
   ]
  },
  {
   "cell_type": "code",
   "execution_count": null,
   "id": "129d6b25-44fa-43e0-a5aa-c2b84f4fa9c8",
   "metadata": {},
   "outputs": [],
   "source": []
  }
 ],
 "metadata": {
  "kernelspec": {
   "display_name": "Python 3 (ipykernel)",
   "language": "python",
   "name": "python3"
  },
  "language_info": {
   "codemirror_mode": {
    "name": "ipython",
    "version": 3
   },
   "file_extension": ".py",
   "mimetype": "text/x-python",
   "name": "python",
   "nbconvert_exporter": "python",
   "pygments_lexer": "ipython3",
   "version": "3.9.16"
  }
 },
 "nbformat": 4,
 "nbformat_minor": 5
}
